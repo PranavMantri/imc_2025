{
 "cells": [
  {
   "cell_type": "code",
   "execution_count": 3,
   "id": "6f3c5d84-262a-47f9-9537-e731ca4228a3",
   "metadata": {},
   "outputs": [],
   "source": [
    "import pandas as pd\n",
    "import numpy as np\n",
    "import matplotlib.pyplot as plt\n",
    "\n",
    "import json"
   ]
  },
  {
   "cell_type": "code",
   "execution_count": 4,
   "id": "c3e383ee-7f4f-42bf-b2c4-91ddb076548b",
   "metadata": {},
   "outputs": [
    {
     "data": {
      "text/plain": [
       "<bound method NDFrame.head of         day  timestamp                     product  bid_price_1  bid_volume_1  \\\n",
       "0         2          0              PICNIC_BASKET2      30094.0          11.0   \n",
       "1         2          0  VOLCANIC_ROCK_VOUCHER_9750        469.0          11.0   \n",
       "2         2          0            RAINFOREST_RESIN       9992.0          35.0   \n",
       "3         2          0  VOLCANIC_ROCK_VOUCHER_9500        718.0          11.0   \n",
       "4         2          0               VOLCANIC_ROCK      10218.0         150.0   \n",
       "...     ...        ...                         ...          ...           ...   \n",
       "149995    2     999900  VOLCANIC_ROCK_VOUCHER_9750        417.0          20.0   \n",
       "149996    2     999900              PICNIC_BASKET1      58422.0           1.0   \n",
       "149997    2     999900                  CROISSANTS       4241.0         143.0   \n",
       "149998    2     999900        MAGNIFICENT_MACARONS        665.0          18.0   \n",
       "149999    2     999900  VOLCANIC_ROCK_VOUCHER_9500        666.0          20.0   \n",
       "\n",
       "        bid_price_2  bid_volume_2  bid_price_3  bid_volume_3  ask_price_1  \\\n",
       "0           30093.0          27.0          NaN           NaN        30099   \n",
       "1               NaN           NaN          NaN           NaN          470   \n",
       "2               NaN           NaN          NaN           NaN        10008   \n",
       "3               NaN           NaN          NaN           NaN          719   \n",
       "4           10217.0          64.0          NaN           NaN        10219   \n",
       "...             ...           ...          ...           ...          ...   \n",
       "149995          NaN           NaN          NaN           NaN          418   \n",
       "149996      58421.0          39.0          NaN           NaN        58432   \n",
       "149997          NaN           NaN          NaN           NaN         4242   \n",
       "149998        662.0          19.0        656.0          24.0          674   \n",
       "149999          NaN           NaN          NaN           NaN          667   \n",
       "\n",
       "        ask_volume_1  ask_price_2  ask_volume_2  ask_price_3  ask_volume_3  \\\n",
       "0                  1      30100.0          37.0          NaN           NaN   \n",
       "1                 11          NaN           NaN          NaN           NaN   \n",
       "2                 35          NaN           NaN          NaN           NaN   \n",
       "3                 11          NaN           NaN          NaN           NaN   \n",
       "4                150      10220.0          64.0          NaN           NaN   \n",
       "...              ...          ...           ...          ...           ...   \n",
       "149995            20          NaN           NaN          NaN           NaN   \n",
       "149996            20      58433.0          20.0          NaN           NaN   \n",
       "149997           143          NaN           NaN          NaN           NaN   \n",
       "149998             9        683.0          24.0        690.0          19.0   \n",
       "149999            20          NaN           NaN          NaN           NaN   \n",
       "\n",
       "        mid_price  profit_and_loss  \n",
       "0         30096.5              0.0  \n",
       "1           469.5              0.0  \n",
       "2         10000.0              0.0  \n",
       "3           718.5              0.0  \n",
       "4         10218.5              0.0  \n",
       "...           ...              ...  \n",
       "149995      417.5              0.0  \n",
       "149996    58427.0              0.0  \n",
       "149997     4241.5              0.0  \n",
       "149998      669.5              0.0  \n",
       "149999      666.5              0.0  \n",
       "\n",
       "[150000 rows x 17 columns]>"
      ]
     },
     "execution_count": 4,
     "metadata": {},
     "output_type": "execute_result"
    }
   ],
   "source": [
    "# Load CSVs\n",
    "day_0_trades = pd.read_csv(\"../prosperity-3-backtester/prosperity3bt/resources/round5/trades_round_5_day_2.csv\", delimiter=\";\")\n",
    "day_1_trades = pd.read_csv(\"../prosperity-3-backtester/prosperity3bt/resources/round5/trades_round_5_day_3.csv\", delimiter=\";\")\n",
    "day_2_trades = pd.read_csv(\"../prosperity-3-backtester/prosperity3bt/resources/round5/trades_round_5_day_4.csv\", delimiter=\";\")\n",
    "\n",
    "day_0_prices = pd.read_csv(\"../prosperity-3-backtester/prosperity3bt/resources/round5/prices_round_5_day_2.csv\", delimiter=\";\")\n",
    "day_1_prices = pd.read_csv(\"../prosperity-3-backtester/prosperity3bt/resources/round5/prices_round_5_day_3.csv\", delimiter=\";\")\n",
    "day_2_prices = pd.read_csv(\"../prosperity-3-backtester/prosperity3bt/resources/round5/prices_round_5_day_4.csv\", delimiter=\";\")\n",
    "\n",
    "day_0_prices.head"
   ]
  },
  {
   "cell_type": "code",
   "execution_count": 5,
   "id": "dc449195-58f0-4947-89a6-b73fcb54af0d",
   "metadata": {},
   "outputs": [],
   "source": [
    "day_trades = {\n",
    "    0: day_0_trades,\n",
    "    1: day_1_trades,\n",
    "    2: day_2_trades\n",
    "}\n",
    "\n",
    "day_prices = {\n",
    "    0: day_0_prices,\n",
    "    1: day_1_prices,\n",
    "    2: day_2_prices\n",
    "}\n",
    "day = 2"
   ]
  },
  {
   "cell_type": "markdown",
   "id": "2f6ce58e-cf7b-4cba-af9c-25c166f777f5",
   "metadata": {},
   "source": [
    "# PNL Analysis"
   ]
  },
  {
   "cell_type": "code",
   "execution_count": 6,
   "id": "ca9fe093-e001-4836-93ba-571471ecbe06",
   "metadata": {},
   "outputs": [
    {
     "name": "stdout",
     "output_type": "stream",
     "text": [
      "Unique participants in the market\n",
      "Buyers:  ['Penelope' 'Caesar' 'Charlie' 'Camilla' 'Pablo']\n",
      "Sellers:  ['Charlie' 'Camilla' 'Pablo' 'Penelope' 'Caesar']\n"
     ]
    },
    {
     "data": {
      "text/plain": [
       "array(['Penelope', 'Caesar', 'Charlie', 'Camilla', 'Pablo'], dtype=object)"
      ]
     },
     "execution_count": 6,
     "metadata": {},
     "output_type": "execute_result"
    }
   ],
   "source": [
    "df = day_trades[day][day_trades[day][\"symbol\"] == \"PICNIC_BASKET2\"]\n",
    "\n",
    "print(\"Unique participants in the market\")\n",
    "\n",
    "print(\"Buyers: \", df[\"buyer\"].unique())\n",
    "print(\"Sellers: \", df[\"seller\"].unique())\n",
    "\n",
    "pd.concat([df[\"buyer\"], df[\"seller\"]]).unique()\n"
   ]
  },
  {
   "cell_type": "code",
   "execution_count": 7,
   "id": "465a5579-6259-488c-b581-4acb1c744305",
   "metadata": {},
   "outputs": [
    {
     "name": "stdout",
     "output_type": "stream",
     "text": [
      "day:0, product:SQUID_INK, idx: Paris, pnl: 17.0\n",
      "day:0, product:SQUID_INK, idx: Camilla, pnl: 15.0\n",
      "day:0, product:SQUID_INK, idx: Penelope, pnl: 68.0\n",
      "day:0, product:SQUID_INK, idx: Gina, pnl: 51.0\n",
      "day:0, product:SQUID_INK, idx: Olivia, pnl: 742.5\n",
      "day:1, product:SQUID_INK, idx: Gina, pnl: 791.0\n",
      "day:1, product:SQUID_INK, idx: Paris, pnl: 117.0\n",
      "day:1, product:SQUID_INK, idx: Olivia, pnl: 2557.5\n",
      "day:2, product:SQUID_INK, idx: Paris, pnl: 40.0\n",
      "day:2, product:SQUID_INK, idx: Penelope, pnl: 162.0\n",
      "day:2, product:SQUID_INK, idx: Caesar, pnl: 120.0\n",
      "day:2, product:SQUID_INK, idx: Camilla, pnl: 38.5\n",
      "day:2, product:SQUID_INK, idx: Gina, pnl: 750.0\n",
      "day:2, product:SQUID_INK, idx: Olivia, pnl: 2242.5\n",
      "day:0, product:CROISSANTS, idx: Paris, pnl: 192.0\n",
      "day:0, product:CROISSANTS, idx: Olivia, pnl: 111.0\n",
      "day:0, product:CROISSANTS, idx: Camilla, pnl: 104.0\n",
      "day:1, product:CROISSANTS, idx: Caesar, pnl: 432.0\n",
      "day:1, product:CROISSANTS, idx: Olivia, pnl: 207.0\n",
      "day:2, product:CROISSANTS, idx: Caesar, pnl: 156.0\n",
      "day:2, product:CROISSANTS, idx: Olivia, pnl: 21.0\n",
      "day:2, product:CROISSANTS, idx: Camilla, pnl: 250.0\n",
      "day:0, product:JAMS, idx: Paris, pnl: 38.5\n",
      "day:1, product:JAMS, idx: Paris, pnl: 459.0\n",
      "day:1, product:JAMS, idx: Camilla, pnl: 352.5\n",
      "day:2, product:JAMS, idx: Caesar, pnl: 615.0\n",
      "day:0, product:DJEMBES, idx: Caesar, pnl: 360.0\n",
      "day:0, product:DJEMBES, idx: Camilla, pnl: 875.0\n",
      "day:1, product:DJEMBES, idx: Paris, pnl: 151.0\n",
      "day:2, product:DJEMBES, idx: Caesar, pnl: 37.0\n",
      "day:0, product:PICNIC_BASKET1, idx: Camilla, pnl: 1833.0\n",
      "day:0, product:PICNIC_BASKET1, idx: Penelope, pnl: 344.5\n",
      "day:1, product:PICNIC_BASKET1, idx: Penelope, pnl: 702.0\n",
      "day:1, product:PICNIC_BASKET1, idx: Caesar, pnl: 20.0\n",
      "day:1, product:PICNIC_BASKET1, idx: Camilla, pnl: 180.0\n",
      "day:2, product:PICNIC_BASKET1, idx: Penelope, pnl: 460.0\n",
      "day:2, product:PICNIC_BASKET1, idx: Caesar, pnl: 207.0\n",
      "day:2, product:PICNIC_BASKET1, idx: Charlie, pnl: 1648.0\n",
      "day:0, product:PICNIC_BASKET2, idx: Camilla, pnl: 234.0\n",
      "day:0, product:PICNIC_BASKET2, idx: Penelope, pnl: 238.5\n",
      "day:1, product:PICNIC_BASKET2, idx: Camilla, pnl: 423.5\n",
      "day:1, product:PICNIC_BASKET2, idx: Charlie, pnl: 661.5\n",
      "day:2, product:PICNIC_BASKET2, idx: Penelope, pnl: 1267.5\n",
      "day:2, product:PICNIC_BASKET2, idx: Caesar, pnl: 515.0\n"
     ]
    }
   ],
   "source": [
    "def calc_pnl(trader: str, product: str, trades: pd.DataFrame, prices: pd.DataFrame):\n",
    "    \n",
    "    df_trades = trades[trades[\"symbol\"] == product]\n",
    "    \n",
    "    df_trades = df_trades[( (df_trades['seller'] == trader) | (df_trades['buyer'] == trader))]\n",
    "\n",
    "    df_prices = prices[prices[\"product\"] == product]\n",
    "    # df_trades = df_trades[( (df_trades['seller'] == trader) | (df_trades['buyer'] == trader))]\n",
    "\n",
    "    pnl = 0\n",
    "    position = 0\n",
    "    last_price = 0\n",
    "    for timestamp in range (0, 1_000_000, 100):\n",
    "\n",
    "        curr_price = df_prices[df_prices['timestamp'] == timestamp]['mid_price'].iloc[0]\n",
    "        \n",
    "        if position > 0:\n",
    "            pnl += (curr_price - last_price) * position\n",
    "        \n",
    "        if (df_trades['timestamp'].iloc[0] == timestamp ):\n",
    "\n",
    "            if (df_trades['buyer'].iloc[0] == trader):\n",
    "                \n",
    "                if position < 0:\n",
    "                    pnl += position * curr_price\n",
    "                \n",
    "                position += df_trades['quantity'].iloc[0]\n",
    "\n",
    "            if (df_trades['seller'].iloc[0] == trader):\n",
    "\n",
    "                if (position - df_trades['quantity'].iloc[0]) < 0:\n",
    "                    pnl += (df_trades['quantity'].iloc[0] - position) * curr_price\n",
    "                \n",
    "                position -= df_trades['quantity'].iloc[0]\n",
    "\n",
    "        last_price = curr_price\n",
    "\n",
    "    if position < 0:\n",
    "        pnl += position * curr_price\n",
    "    \n",
    "    return pnl\n",
    "\n",
    "day = 2\n",
    "\n",
    "\n",
    "days = [0, 1, 2]\n",
    "products = [\"SQUID_INK\", \"CROISSANTS\", \"JAMS\", \"DJEMBES\", \"PICNIC_BASKET1\", \"PICNIC_BASKET2\", \"MAGNIFICIENT_MACARONS\"]\n",
    "\n",
    "\n",
    "\n",
    "for product in products:\n",
    "    for day in days:\n",
    "        df = day_trades[day][day_trades[day][\"symbol\"] == product]\n",
    "        for idx in pd.concat([df[\"buyer\"], df[\"seller\"]]).unique():\n",
    "\n",
    "            pnl = calc_pnl(idx, product, day_trades[day], day_prices[day])\n",
    "\n",
    "            if pnl > 0:\n",
    "                print(f\"day:{day}, product:{product}, idx: {idx}, pnl: {pnl}\")\n"
   ]
  },
  {
   "cell_type": "markdown",
   "id": "e9ce7727-2de8-4aec-9319-20c74fb822c9",
   "metadata": {},
   "source": [
    "## NOTES\n",
    "\n",
    "* SQUID_INK\n",
    "  * Olivia cooks\n",
    "* PICNIC_BASKET1\n",
    "  * Camilla??\n",
    "* PICNIC _BASKET2\n",
    "  * Penelope?"
   ]
  },
  {
   "cell_type": "markdown",
   "id": "eded188c-1359-42e5-8f49-f74a474961bd",
   "metadata": {},
   "source": [
    "# P2P Analysis"
   ]
  },
  {
   "cell_type": "code",
   "execution_count": 8,
   "id": "ac0d272b-bf16-4efe-bb64-4ca7ee45ea62",
   "metadata": {},
   "outputs": [
    {
     "data": {
      "text/plain": [
       "(0.0, 1000000.0)"
      ]
     },
     "execution_count": 8,
     "metadata": {},
     "output_type": "execute_result"
    },
    {
     "data": {
      "image/png": "[encoded data removed]",
      "text/plain": [
       "<Figure size 1200x600 with 2 Axes>"
      ]
     },
     "metadata": {},
     "output_type": "display_data"
    }
   ],
   "source": [
    "day = 2\n",
    "df = day_prices[day][day_prices[day][\"product\"] == \"DJEMBES\"]\n",
    "\n",
    "fig, ax1 = plt.subplots(figsize=(12, 6))\n",
    "ax1.plot(df[\"timestamp\"], df[\"mid_price\"], \n",
    "            color='grey', label='Buys', alpha=1)\n",
    "\n",
    "ax2 = ax1.twinx()\n",
    "\n",
    "df = day_trades[day][day_trades[day][\"symbol\"] == \"DJEMBES\"]\n",
    "df = df[(df['buyer'] == 'Camilla') & (df['seller'] == 'Pablo')]\n",
    "\n",
    "for _, row in df.iterrows():\n",
    "    ax2.axvline(x=row['timestamp'], color='red', linestyle='--', linewidth=1.5)\n",
    "\n",
    "\n",
    "df = day_trades[day][day_trades[day][\"symbol\"] == \"DJEMBES\"]\n",
    "df = df[(df['seller'] == 'Pablo') & (df['buyer'] == 'Camilla')]\n",
    "\n",
    "for _, row in df.iterrows():\n",
    "    ax2.axvline(x=row['timestamp'], color='green', linestyle='--', linewidth=1.5)\n",
    "\n",
    "\n",
    "# Get first trade timestamp\n",
    "zoom_start = 0000\n",
    "zoom_end = 1_000_000\n",
    "ax1.set_xlim(zoom_start, zoom_end)\n",
    "\n",
    "\n",
    "\n",
    "# df = df[(df['buyer'] == 'Caesar')]\n",
    "\n",
    "# ax2.plot(df[\"timestamp\"], df[\"price\"], \n",
    "#             color='green', label='Buys', alpha=1)\n",
    "\n",
    "# df = df[(df['seller'] == 'Camilla')]\n",
    "\n",
    "# ax2.plot(df[\"timestamp\"], df[\"price\"], \n",
    "#             color='red', label='Sells', alpha=1)\n"
   ]
  }
 ],
 "metadata": {
  "kernelspec": {
   "display_name": "Python 3 (ipykernel)",
   "language": "python",
   "name": "python3"
  },
  "language_info": {
   "codemirror_mode": {
    "name": "ipython",
    "version": 3
   },
   "file_extension": ".py",
   "mimetype": "text/x-python",
   "name": "python",
   "nbconvert_exporter": "python",
   "pygments_lexer": "ipython3",
   "version": "3.13.0"
  }
 },
 "nbformat": 4,
 "nbformat_minor": 5
}

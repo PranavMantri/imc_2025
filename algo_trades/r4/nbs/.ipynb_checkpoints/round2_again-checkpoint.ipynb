{
 "cells": [
  {
   "cell_type": "code",
   "execution_count": 1,
   "id": "11bbd5c0-abdd-46be-a391-ad014bca4c8a",
   "metadata": {},
   "outputs": [],
   "source": [
    "import pandas as pd\n",
    "import matplotlib.pyplot as plt"
   ]
  },
  {
   "cell_type": "code",
   "execution_count": null,
   "id": "82d245d6-7aba-40de-aff3-4652b1af913f",
   "metadata": {},
   "outputs": [],
   "source": [
    "p1 = pd.read_csv('experimentation/prices_round_4_day_1.csv', sep=';')\n",
    "p2 = pd.read_csv('experimentation/prices_round_4_day_2.csv', sep=';')\n",
    "p3 = pd.read_csv('experimentation/prices_round_4_day_3.csv', sep=';')\n"
   ]
  }
 ],
 "metadata": {
  "kernelspec": {
   "display_name": "Python 3 (ipykernel)",
   "language": "python",
   "name": "python3"
  },
  "language_info": {
   "codemirror_mode": {
    "name": "ipython",
    "version": 3
   },
   "file_extension": ".py",
   "mimetype": "text/x-python",
   "name": "python",
   "nbconvert_exporter": "python",
   "pygments_lexer": "ipython3",
   "version": "3.13.2"
  }
 },
 "nbformat": 4,
 "nbformat_minor": 5
}

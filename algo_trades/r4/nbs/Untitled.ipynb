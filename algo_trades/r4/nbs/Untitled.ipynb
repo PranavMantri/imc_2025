{
 "cells": [
  {
   "cell_type": "code",
   "execution_count": 1,
   "id": "bf59da94-cba8-47a0-8480-4fafb70d5b31",
   "metadata": {},
   "outputs": [],
   "source": [
    "import pandas as pd\n",
    "import matplotlib.pyplot as plt"
   ]
  },
  {
   "cell_type": "code",
   "execution_count": 2,
   "id": "bb3ba4e3-cf1d-4eb5-bf46-09b26baf7eec",
   "metadata": {},
   "outputs": [],
   "source": [
    "o1 = pd.read_csv('experimentation/observations_round_4_day_1.csv')\n",
    "o2 = pd.read_csv('experimentation/observations_round_4_day_2.csv')\n",
    "o3 = pd.read_csv('experimentation/observations_round_4_day_3.csv')\n",
    "\n",
    "p1 = pd.read_csv('experimentation/prices_round_4_day_1.csv', sep=';')\n",
    "p1 = [p1[p1['product'] == 'MAGNIFICENT_MACARONS']]\n",
    "p2 = pd.read_csv('experimentation/prices_round_4_day_2.csv', sep=';')\n",
    "p2 = [p2[p2['product'] == 'MAGNIFICENT_MACARONS']]\n",
    "p3 = pd.read_csv('experimentation/prices_round_4_day_3.csv', sep=';')\n",
    "p3 = [p3[p3['product'] == 'MAGNIFICENT_MACARONS']]\n",
    "\n",
    "\n",
    "p1 = pd.concat(p1).set_index('timestamp')\n",
    "p2 = pd.concat(p2).set_index('timestamp')\n",
    "p3 = pd.concat(p3).set_index('timestamp')\n",
    "o1 = o1.set_index('timestamp')\n",
    "o2 = o2.set_index('timestamp')\n",
    "o3 = o3.set_index('timestamp')\n"
   ]
  },
  {
   "cell_type": "code",
   "execution_count": 3,
   "id": "84984de6-5bb5-4374-817c-4bd8268e848e",
   "metadata": {},
   "outputs": [],
   "source": [
    "maxBid = lambda df: df.assign(max_bid=df[['bid_price_1', 'bid_price_2', 'bid_price_3']].max(axis=1, skipna=True))\n",
    "minAsk = lambda df: df.assign(min_ask=df[['ask_price_1', 'ask_price_2', 'ask_price_3']].min(axis=1, skipna=True))"
   ]
  },
  {
   "cell_type": "code",
   "execution_count": 4,
   "id": "9b0698f4-9677-4526-8c05-3194dfc9fc32",
   "metadata": {},
   "outputs": [],
   "source": [
    "p1 = maxBid(p1)\n",
    "p1 = minAsk(p1)\n",
    "p2 = maxBid(p2)\n",
    "p2 = minAsk(p2)\n",
    "p3 = maxBid(p3)\n",
    "p3 = minAsk(p3)\n"
   ]
  },
  {
   "cell_type": "code",
   "execution_count": 7,
   "id": "ddd26ae4-cac5-41d4-8ab6-c81f7bcd35a2",
   "metadata": {},
   "outputs": [],
   "source": [
    "import pandas as pd\n",
    "\n",
    "def simulate_sugar_strategy(df_sugar, price_col='sugar_price', max_pos=75):\n",
    "    \"\"\"\n",
    "    Simulate a sugar momentum strategy:\n",
    "    - At each timestamp t, compare price at t vs t-3 (3 rows ago).\n",
    "    - If abs(delta) > 3: adjust position by +1 (if price rose) or -1 (if price fell), capped at ±max_pos.\n",
    "    - Otherwise, clear full position to 0.\n",
    "    - Record each trade and compute cumulative PnL.\n",
    "    \n",
    "    Returns:\n",
    "      trades_df: DataFrame with columns ['timestamp','quantity','price','position']\n",
    "      total_pnl: float, sum of all trade PnL\n",
    "    \"\"\"\n",
    "    o1['prev_price'] = o1[price_col].shift(3)\n",
    "    \n",
    "    position = 0\n",
    "    pnl = 0.0\n",
    "    trades = []\n",
    "    \n",
    "    for _, row in o1.iterrows():\n",
    "        t = row['timestamp']\n",
    "        price = row[price_col]\n",
    "        prev_price = row['prev_price']\n",
    "        \n",
    "        # Determine action\n",
    "        if pd.notnull(prev_price) and abs(price - prev_price) > 3:\n",
    "            direction = 1 if (price - prev_price) > 0 else -1\n",
    "            new_pos = position + direction\n",
    "            new_pos = min(max(new_pos, -max_pos), max_pos)  # clip to ±max_pos\n",
    "            qty = new_pos - position\n",
    "        else:\n",
    "            qty = -position\n",
    "            new_pos = 0\n",
    "        \n",
    "        if qty != 0:\n",
    "            trades.append({\n",
    "                'timestamp': t,\n",
    "                'quantity': qty,\n",
    "                'price': price,\n",
    "                'position': new_pos\n",
    "            })\n",
    "            pnl -= qty * price\n",
    "            position = new_pos\n",
    "    \n",
    "    trades_df = pd.DataFrame(trades)\n",
    "    return trades_df, pnl\n"
   ]
  },
  {
   "cell_type": "code",
   "execution_count": 8,
   "id": "e60858a7-ce62-4ca8-a832-ca0dd6768a5a",
   "metadata": {},
   "outputs": [
    {
     "ename": "NameError",
     "evalue": "name 'df' is not defined",
     "output_type": "error",
     "traceback": [
      "\u001b[0;31m---------------------------------------------------------------------------\u001b[0m",
      "\u001b[0;31mNameError\u001b[0m                                 Traceback (most recent call last)",
      "Cell \u001b[0;32mIn[8], line 1\u001b[0m\n\u001b[0;32m----> 1\u001b[0m trades_df, total_pnl \u001b[38;5;241m=\u001b[39m \u001b[43msimulate_sugar_strategy\u001b[49m\u001b[43m(\u001b[49m\u001b[43mo1\u001b[49m\u001b[43m[\u001b[49m\u001b[38;5;124;43m'\u001b[39;49m\u001b[38;5;124;43msugarPrice\u001b[39;49m\u001b[38;5;124;43m'\u001b[39;49m\u001b[43m]\u001b[49m\u001b[43m,\u001b[49m\u001b[43m \u001b[49m\u001b[43mprice_col\u001b[49m\u001b[38;5;241;43m=\u001b[39;49m\u001b[38;5;124;43m'\u001b[39;49m\u001b[38;5;124;43msugar_price\u001b[39;49m\u001b[38;5;124;43m'\u001b[39;49m\u001b[43m,\u001b[49m\u001b[43m \u001b[49m\u001b[43mmax_pos\u001b[49m\u001b[38;5;241;43m=\u001b[39;49m\u001b[38;5;241;43m75\u001b[39;49m\u001b[43m)\u001b[49m\n\u001b[1;32m      2\u001b[0m \u001b[38;5;28mprint\u001b[39m(\u001b[38;5;124mf\u001b[39m\u001b[38;5;124m\"\u001b[39m\u001b[38;5;124mTotal PnL: \u001b[39m\u001b[38;5;132;01m{\u001b[39;00mtotal_pnl\u001b[38;5;132;01m:\u001b[39;00m\u001b[38;5;124m.2f\u001b[39m\u001b[38;5;132;01m}\u001b[39;00m\u001b[38;5;124m\"\u001b[39m)\n\u001b[1;32m      3\u001b[0m trades_df\u001b[38;5;241m.\u001b[39mhead()\n",
      "Cell \u001b[0;32mIn[7], line 15\u001b[0m, in \u001b[0;36msimulate_sugar_strategy\u001b[0;34m(df_sugar, price_col, max_pos)\u001b[0m\n\u001b[1;32m      3\u001b[0m \u001b[38;5;28;01mdef\u001b[39;00m\u001b[38;5;250m \u001b[39m\u001b[38;5;21msimulate_sugar_strategy\u001b[39m(df_sugar, price_col\u001b[38;5;241m=\u001b[39m\u001b[38;5;124m'\u001b[39m\u001b[38;5;124msugar_price\u001b[39m\u001b[38;5;124m'\u001b[39m, max_pos\u001b[38;5;241m=\u001b[39m\u001b[38;5;241m75\u001b[39m):\n\u001b[1;32m      4\u001b[0m \u001b[38;5;250m    \u001b[39m\u001b[38;5;124;03m\"\"\"\u001b[39;00m\n\u001b[1;32m      5\u001b[0m \u001b[38;5;124;03m    Simulate a sugar momentum strategy:\u001b[39;00m\n\u001b[1;32m      6\u001b[0m \u001b[38;5;124;03m    - At each timestamp t, compare price at t vs t-3 (3 rows ago).\u001b[39;00m\n\u001b[0;32m   (...)\u001b[0m\n\u001b[1;32m     13\u001b[0m \u001b[38;5;124;03m      total_pnl: float, sum of all trade PnL\u001b[39;00m\n\u001b[1;32m     14\u001b[0m \u001b[38;5;124;03m    \"\"\"\u001b[39;00m\n\u001b[0;32m---> 15\u001b[0m     df[\u001b[38;5;124m'\u001b[39m\u001b[38;5;124mprev_price\u001b[39m\u001b[38;5;124m'\u001b[39m] \u001b[38;5;241m=\u001b[39m \u001b[43mdf\u001b[49m[price_col]\u001b[38;5;241m.\u001b[39mshift(\u001b[38;5;241m3\u001b[39m)\n\u001b[1;32m     17\u001b[0m     position \u001b[38;5;241m=\u001b[39m \u001b[38;5;241m0\u001b[39m\n\u001b[1;32m     18\u001b[0m     pnl \u001b[38;5;241m=\u001b[39m \u001b[38;5;241m0.0\u001b[39m\n",
      "\u001b[0;31mNameError\u001b[0m: name 'df' is not defined"
     ]
    }
   ],
   "source": [
    "trades_df, total_pnl = simulate_sugar_strategy(o1['sugarPrice'], price_col='sugar_price', max_pos=75)\n",
    "print(f\"Total PnL: {total_pnl:.2f}\")\n",
    "trades_df.head()"
   ]
  },
  {
   "cell_type": "code",
   "execution_count": null,
   "id": "86491aab-e2f4-473c-a73e-f8a3f946655e",
   "metadata": {},
   "outputs": [],
   "source": []
  }
 ],
 "metadata": {
  "kernelspec": {
   "display_name": "Python 3 (ipykernel)",
   "language": "python",
   "name": "python3"
  },
  "language_info": {
   "codemirror_mode": {
    "name": "ipython",
    "version": 3
   },
   "file_extension": ".py",
   "mimetype": "text/x-python",
   "name": "python",
   "nbconvert_exporter": "python",
   "pygments_lexer": "ipython3",
   "version": "3.13.2"
  }
 },
 "nbformat": 4,
 "nbformat_minor": 5
}
